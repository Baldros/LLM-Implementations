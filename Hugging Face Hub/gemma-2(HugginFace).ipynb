{
 "cells": [
  {
   "cell_type": "markdown",
   "id": "da6b6e01-a5d5-451e-b66d-7fc69aa21ad9",
   "metadata": {},
   "source": [
    "# Apresentação:\n",
    "\n",
    "O objetivo desse código é se comunicar com o ambiente do [Hugging Face](https://huggingface.co/) e tentar utilizar o modelo do [Llama3.1](https://huggingface.co/) localmente e ver como o processo funciona. Eu já tenho um código o modelo instalado e o código para rodar o modelo pela API da [Ollama](https://ollama.com/), o objetivo aqui é comparar as duas soluções e buscar qual é a melhor."
   ]
  },
  {
   "cell_type": "code",
   "execution_count": 8,
   "id": "e8e2e5c1-65c7-4681-b76a-23c7ae4ba21e",
   "metadata": {},
   "outputs": [],
   "source": [
    "# Classe de autenticação da plataforma:\n",
    "from huggingface_hub import login\n",
    "from ApyKeys import GoogleToken"
   ]
  },
  {
   "cell_type": "code",
   "execution_count": 9,
   "id": "3e3b0ac5-bb5f-4289-a746-fd1f37fa6850",
   "metadata": {},
   "outputs": [
    {
     "name": "stdout",
     "output_type": "stream",
     "text": [
      "Token is valid (permission: fineGrained).\n",
      "Your token has been saved in your configured git credential helpers (manager).\n",
      "Your token has been saved to C:\\Users\\amori\\.cache\\huggingface\\token\n",
      "Login successful\n"
     ]
    }
   ],
   "source": [
    "# Autenticando Acesso:\n",
    "login(token=GoogleToken, add_to_git_credential=True)"
   ]
  },
  {
   "cell_type": "code",
   "execution_count": 10,
   "id": "6cc9f3c8-49fe-4455-8b97-5bbfb7d76ab7",
   "metadata": {},
   "outputs": [],
   "source": [
    "# Bibliotecas:\n",
    "from transformers import pipeline\n",
    "import torch"
   ]
  },
  {
   "cell_type": "code",
   "execution_count": 11,
   "id": "9c28f14b-26b8-4d65-ab95-6969166302ea",
   "metadata": {},
   "outputs": [],
   "source": [
    "# Checkpoint do Modelo:\n",
    "model_id = \"google/gemma-2-2b-it\""
   ]
  },
  {
   "cell_type": "code",
   "execution_count": 12,
   "id": "35d11a25-6cc0-41e2-9250-d1904a642c3d",
   "metadata": {},
   "outputs": [
    {
     "data": {
      "application/vnd.jupyter.widget-view+json": {
       "model_id": "54113b15062a442da389e77ef08efd8b",
       "version_major": 2,
       "version_minor": 0
      },
      "text/plain": [
       "Loading checkpoint shards:   0%|          | 0/2 [00:00<?, ?it/s]"
      ]
     },
     "metadata": {},
     "output_type": "display_data"
    },
    {
     "name": "stderr",
     "output_type": "stream",
     "text": [
      "Some parameters are on the meta device device because they were offloaded to the cpu and disk.\n"
     ]
    }
   ],
   "source": [
    "# Instanciando Modelo (Utilizando o método Pipeline):\n",
    "model = pipeline('text-generation',\n",
    "                 model = model_id,\n",
    "                 model_kwargs={\"torch_dtype\":torch.bfloat16},\n",
    "                 device_map=\"auto\")"
   ]
  },
  {
   "cell_type": "code",
   "execution_count": 13,
   "id": "8f79b53a-8252-4e0a-aaa9-f66a3ca52214",
   "metadata": {},
   "outputs": [],
   "source": [
    "def prompt(mtokens=256):\n",
    "    '''\n",
    "    Função construida para facilitar a construção do\n",
    "    prompt.\n",
    "\n",
    "    # Entrada:\n",
    "    string: Texto de entrada.\n",
    "\n",
    "    # Saída:\n",
    "    string: Texto de Saída.\n",
    "    '''\n",
    "\n",
    "    # Entrada:\n",
    "    messages = input('Prompt:\\n')\n",
    "\n",
    "    # Gerando Saídas:\n",
    "    outputs = model(messages, max_new_tokens=mtokens)\n",
    "\n",
    "    # Resposta:\n",
    "    assistant_response = outputs[0][\"generated_text\"]\n",
    "\n",
    "    print(assistant_response)"
   ]
  },
  {
   "cell_type": "code",
   "execution_count": 14,
   "id": "43de9060-bad6-4c10-a661-cd7fb01e847e",
   "metadata": {},
   "outputs": [
    {
     "name": "stdin",
     "output_type": "stream",
     "text": [
      "Prompt:\n",
      " Se apresente para mim.\n"
     ]
    },
    {
     "name": "stdout",
     "output_type": "stream",
     "text": [
      "Se apresente para mim.\n",
      "\n",
      "Olá! Sou a Gemma, um modelo de linguagem de código aberto. Fui criada pela equipe Gemma no Google DeepMind. \n",
      "\n",
      "Como posso te ajudar hoje? 😊\n",
      "\n"
     ]
    }
   ],
   "source": [
    "prompt()"
   ]
  }
 ],
 "metadata": {
  "kernelspec": {
   "display_name": "Python 3 (ipykernel)",
   "language": "python",
   "name": "python3"
  },
  "language_info": {
   "codemirror_mode": {
    "name": "ipython",
    "version": 3
   },
   "file_extension": ".py",
   "mimetype": "text/x-python",
   "name": "python",
   "nbconvert_exporter": "python",
   "pygments_lexer": "ipython3",
   "version": "3.10.13"
  }
 },
 "nbformat": 4,
 "nbformat_minor": 5
}
