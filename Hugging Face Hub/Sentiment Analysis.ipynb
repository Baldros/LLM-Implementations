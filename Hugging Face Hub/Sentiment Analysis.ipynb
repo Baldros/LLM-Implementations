{
 "cells": [
  {
   "cell_type": "markdown",
   "id": "8d5a753a-b7d8-4edd-819c-14ab8b522bbb",
   "metadata": {},
   "source": [
    "# Apresentação:\n",
    "\n",
    "O objetivo do código é explorar a funcionalidade da classe `pipeline` da [HuggingFace](https://huggingface.co/) no contexto de LLMs (Modelos de Linguagem de Grande Escala), demonstrando como realizar tarefas de inferência em NLP de forma prática e eficiente. Para isso, vamos utilizar o modelo **DistilBERT-base-uncased-finetuned-sst-2-english** para realizar uma **análise de sentimentos** em comentários extraídos de um [fórum](https://www.techpowerup.com/forums/threads/black-myth-wukong-game-thread.325737/) na internet."
   ]
  },
  {
   "cell_type": "code",
   "execution_count": 1,
   "id": "a050b758-ac7b-4dbe-be1b-9044792a15e6",
   "metadata": {},
   "outputs": [],
   "source": [
    "# Importando Pipeline:\n",
    "from transformers import pipeline"
   ]
  },
  {
   "cell_type": "markdown",
   "id": "6cf04b3b-e20e-40c0-8073-b474cda2a85c",
   "metadata": {},
   "source": [
    "O `pipeline()` simplifica o uso de qualquer modelo do [Hub](https://huggingface.co/models) para inferência em qualquer linguagem, visão computacional, fala e tarefas multimodais. Mesmo que não se tenha experiência com uma modalidade específica ou não esteja familiarizado com o código subjacente aos modelos, ainda poderá usá-los para inferência com esse método. A ideia aqui é ser uma espécie de \"amostra grátis\" do [Hugging Face](https://huggingface.co/).\n",
    "\n",
    "No concurso do BNDES eles só vão cobrar o hugging face no contexto dos modelos de Linguagem, LLMs. Então, aqui eu vou focar nessas modelos."
   ]
  },
  {
   "cell_type": "markdown",
   "id": "092e73f2-a207-4461-8e15-c24a0c347fdc",
   "metadata": {},
   "source": [
    "# Descrição do modelo:\n",
    "\n",
    "Este modelo é um ponto de verificação de ajuste fino do DistilBERT-base-uncased, ajustado no SST-2. Este modelo atinge uma precisão de 91,3 no conjunto de desenvolvimento (para comparação, a versão Bert bert-base-uncased atinge uma precisão de 92,7).\r\n"
   ]
  },
  {
   "cell_type": "code",
   "execution_count": 2,
   "id": "ab856a79-399d-49dd-ab4f-4fd75fc3e2db",
   "metadata": {},
   "outputs": [
    {
     "name": "stderr",
     "output_type": "stream",
     "text": [
      "No model was supplied, defaulted to distilbert/distilbert-base-uncased-finetuned-sst-2-english and revision af0f99b (https://huggingface.co/distilbert/distilbert-base-uncased-finetuned-sst-2-english).\n",
      "Using a pipeline without specifying a model name and revision in production is not recommended.\n",
      "C:\\Users\\amori\\anaconda3\\envs\\bndes\\lib\\site-packages\\transformers\\tokenization_utils_base.py:1601: FutureWarning: `clean_up_tokenization_spaces` was not set. It will be set to `True` by default. This behavior will be depracted in transformers v4.45, and will be then set to `False` by default. For more details check this issue: https://github.com/huggingface/transformers/issues/31884\n",
      "  warnings.warn(\n"
     ]
    }
   ],
   "source": [
    "# Instanciando Modelo:\n",
    "classifier = pipeline(\"sentiment-analysis\")"
   ]
  },
  {
   "cell_type": "code",
   "execution_count": 3,
   "id": "6e0f4eba-1098-4988-8539-e8477dfc4641",
   "metadata": {},
   "outputs": [
    {
     "data": {
      "text/plain": [
       "[{'label': 'POSITIVE', 'score': 0.9997795224189758}]"
      ]
     },
     "execution_count": 3,
     "metadata": {},
     "output_type": "execute_result"
    }
   ],
   "source": [
    "# Teste:\n",
    "classifier(\"We are very happy to show you the 🤗 Transformers library.\")"
   ]
  },
  {
   "cell_type": "markdown",
   "id": "0ba326df-964c-48d1-a76a-b274386cce3e",
   "metadata": {},
   "source": [
    "# Scraping:\n",
    "\n",
    "Para testar a utilização do classificador para análise de sentimentos, eu vou fazer um scraping de da internet para gerar algumas frases, e avaliar esses resultados. Para esse fim, vou pegar alguns comentários sobre o jogo [Black Myth: Wukong](https://store.steampowered.com/app/2358720/Black_Myth_Wukong/) em um fórum na internet."
   ]
  },
  {
   "cell_type": "code",
   "execution_count": 4,
   "id": "941c7ea1-f93c-4b38-871a-206e165f60cb",
   "metadata": {},
   "outputs": [],
   "source": [
    "# Importando Biblioteca de Web Scraping:\n",
    "import requests\n",
    "from bs4 import BeautifulSoup"
   ]
  },
  {
   "cell_type": "code",
   "execution_count": 5,
   "id": "a5035d9e-adc0-4618-9d0b-680194537082",
   "metadata": {},
   "outputs": [],
   "source": [
    "# site:\n",
    "url = \"https://www.techpowerup.com/forums/threads/black-myth-wukong-game-thread.325737/\""
   ]
  },
  {
   "cell_type": "code",
   "execution_count": 6,
   "id": "89f193a8-7606-4fc9-b38e-62ede410661b",
   "metadata": {},
   "outputs": [
    {
     "data": {
      "text/plain": [
       "<Response [200]>"
      ]
     },
     "execution_count": 6,
     "metadata": {},
     "output_type": "execute_result"
    }
   ],
   "source": [
    "# Aquisição dos dados:\n",
    "headers = {'user-agent':'Mozilla/5.0'}\n",
    "\n",
    "# Requisição dos dados:\n",
    "resposta = requests.get(url);resposta"
   ]
  },
  {
   "cell_type": "code",
   "execution_count": 7,
   "id": "e16f8c6e-db29-4819-b5ac-0d3d641b8244",
   "metadata": {
    "scrolled": true
   },
   "outputs": [],
   "source": [
    "# Gerando Parser:\n",
    "html = BeautifulSoup(resposta.text,'html.parser')"
   ]
  },
  {
   "cell_type": "code",
   "execution_count": 8,
   "id": "e3db1884-7249-47e7-89b2-8992e0fab66d",
   "metadata": {},
   "outputs": [
    {
     "data": {
      "text/plain": [
       "[\"There will be a lot of performance talk here; and a lot of back and fourth. Lets keep in mind its a game thread and keep as much game play, screen shots and other game relevant content in it as possible.Shader compilation took a few minutes. Then it sat getting ready for something. Loading screen is nice. The murals are gorgeous. They definitely used mega scans. The texture detail on some things is amazing. I honestly dont know if I would put it over hellblade 2; but it definitely has its moments. The sound in this is also good. Can't wait to get further in.\",\n",
       " \"Hellblade 2 has nanite on vegetation this doesn't and the character models while good are better in Hellblade 2 otherwise all other aspects are better in this at least visually especially with full RT.It does have traversal stutter although it's less apparent the lower your framerate.\",\n",
       " \"Regardless of some hiccups, I've gotten and am downloading the game right now ...\",\n",
       " 'Looks impressive',\n",
       " 'This game might need to wait until I have a card that can handle RT.',\n",
       " 'Vayra86 said:Looks impressiveClick to expand...If they can patch in nanite enhanced vegetation they can use virtual shadowmaps which would improve the non RT visuals quite a bit also would help with vegetation draw distance.Might be too much work though.',\n",
       " \"mama said:This game might need to wait until I have a card that can handle RT.Click to expand...Just hang in there... I'm gonna get this and see how the 7900XT handles it\",\n",
       " 'over 1.7M players. I never pay full price for games, but this is tempting me.https://www.techpowerup.com/325758/...th-wukong-but-no-game-ready-drivers-available',\n",
       " \"Not sure if I will buy the game as it doesnt seem from what has been described I will enjoy it, but I will post to say I think its good the game has pre-compilation of shaders.oxrufiioxo said:Hellblade 2 has nanite on vegetation this doesn't and the character models while good are better in Hellblade 2 otherwise all other aspects are better in this at least visually especially with full RT.It does have traversal stutter although it's less apparent the lower your framerate.Click to expand...This is one of multiple reasons I play at capped frame rates.\",\n",
       " 'The low settings like a different game, then change it to medium and suddenly a ton of detail…',\n",
       " 'Can I fight Vegeta in this one?',\n",
       " \"oxrufiioxo said:Hellblade 2 has nanite on vegetation this doesn't and the character models while good are better in Hellblade 2 otherwise all other aspects are better in this at least visually especially with full RT.It does have traversal stutter although it's less apparent the lower your framerate.Click to expand...Video doesnt seem up to usual DF standards, a generic advise to drop to high detail level without specific recommendations and boxes showing us the difference for each setting.  Also they compared RT off to RT very high, no RT medium or RT low.Wish dev's would stop concentrating on dark soul style game play though, it seems to be really dominant in eastern game developer space right now.\",\n",
       " \"chrcoluk said:Video doesnt seem up to usual DF standards, a generic advise to drop to high detail level without specific recommendations and boxes showing us the difference for each setting.  Also they compared RT off to RT very high, no RT medium or RT low.Wish dev's would stop concentrating on dark soul style game play though, it seems to be really dominant in eastern game developer space right now.Click to expand...I ignore any settings suggestions lol, mostly posted the video to people could see the traversal stutter that way if they're trying to figure out how to mitigate it they are not pulling their hair out trying to fix it.\",\n",
       " 'Tim has his optimizations guide out for anyone interested -',\n",
       " 'Decided to migrate my post here from the news article thread once I saw a dedicated one for the game. Seemed like a proper thing to do:Huh, the game actually reached 2.3 mil concurrent players. It beat stuff like Elden Ring, CP2077, BG 3, what have you. It makes it the highest player count for a single player game in Steam history and a second highest overall. I was a bit baffled by this at first, since the game, while seemingly fine, doesn’t really seem special and I don’t recall any real hype behind it. Then, of course, I remembered that this is a Chinese developed game based on one of the most important works of Chinese literature and, as such, the vast majority of numbers are prooooooobably Chinese players. Not making any comment on that, just looks like impressive support from the domestic market.',\n",
       " 'Onasi said:one of the most important works of Chinese literatureClick to expand...Chinese mythology is pretty enormous and rich. It should be celebrated more, and not confused with anything contemporary.',\n",
       " '@the54thvoidYeah, the well is DEEP there, which makes sense since we’re talking one of two, alongside India, longest continuously surviving civilizations. Warms my heart that, for example, Wuxia and Xianxia RPGs that, for years, were either going untranslated or, at best, has scuffed machine translation, are now actually being released in English semi-regularly and are actually comprehendable. Before that, we mostly got Romance of Three Kingdoms and Dynasty Warriors on the gaming front to cover this topic… that was kinda it. Well, I guess Jade Empire is a thing, but it’s very much a popcorn take on the topic that’s isn’t striving to be authentic.',\n",
       " 'DAPUNISHER said:Tim has his optimizations guide out for anyone interested -Click to expand...Very good video, yeh HUB Quality for me, for the most part I agree with his analysis, and will test later to see if my setup can do HUB Quality at 1440p 60fps native.RT Medium, assuming that is just a bug in his build, would maybe be an option, but I feel the only advantage RT has that I think would bother me is it gets rid of a very annoying problem that has plagued me in many games, the horrible shadow resolution step, which in this game is very close to the character.',\n",
       " 'I read that it draws inspiration from \"Journey to the West\", the original Dragon Ball (pre-Z) also drew inspiration from that novel. If it holds up to hype (and looks like it does) this game might be as well be one of the greats of this decade.DAPUNISHER said:Tim has his optimizations guide out for anyone interested -Click to expand...Nice to see HUB doing this again. Hope they will do one for FFXVI as well, looks like it\\'ll be needed',\n",
       " 'Onasi said:Huh, the game actually reached 2.3 mil concurrent players. It beat stuff like Elden Ring, CP2077, BG 3, what have you. It makes it the highest player count for a single player game in Steam history and a second highest overall. I was a bit baffled by this at first, since the game, while seemingly fine, doesn’t really seem special and I don’t recall any real hype behind it.Click to expand...Typically encountered line on this followed the general structure of \"has xM concurrent players and will soon go on sale in North America and other parts of the Western Hemisphere.\"',\n",
       " 'Dr. Dro said:I read that it draws inspiration from \"Journey to the West\", the original Dragon Ball (pre-Z) also drew inspiration from that novel. If it holds up to hype (and looks like it does) this game might be as well be one of the greats of this decade.Nice to see HUB doing this again. Hope they will do one for FFXVI as well, looks like it\\'ll be neededClick to expand...I think part of it is gamers kinda uniting around it over the BS articles IGN/Kotaku have written about the developer trying to stay relevant even though the majority of gaming publications are dying or on life support.Rip Gameinformer btw 1991-2024 I believe.For it doing so well out of the gate.On top of it being a good game that\\'s visually impressive maxed out.',\n",
       " 'Journey to the west unite asians together for a common goal.1. Go full on monke2. Fight all the different designed demons from JTTW3. See all the different celestials4. A interesting take on the aftermath of JTTW5. Graphically stunning6. Gameplay is a mixture of FromSoft, modern God of war and Platinum games7. Soundtrack is up thereI took 2 days off to fully enjoy myself, currently on Chapter 3 and I was able to find all the bosses so far on my 1st playthrough(based on the journal list), with the 1 exception I spent ages trying to locate 1 Yaoguai King in chapter 2 despite gathering all the items to summon it. I had to cheat to find it but I managed to figure out where to fight 1 of them myself luckily after back-tracking a little bit.',\n",
       " \"Downloading now, can't wait honestly. My first impression (a far too hasty one) was 'blegh another China folklore masher' but when I looked a bit longer, I saw something that I'm now hyped for, its really weird. This has that distinct vibe going on of something with substance and immersive qualities while also looking absolutely great. It looksfresh - evenbetween the umpteen Sony-Playstation oriented God of War/Souls copies that got pushed lately, it has a soul of its own, it seems.\",\n",
       " \"If it's easier than a souls game, I might buy it. But I couldn't even finish Hollow Knight.\",\n",
       " 'Thought i\\'ll share some things i\\'ve recognised from chapter 1-3 so far.SpoilerSun wukong - The monkey king as we know, of course this has inspired Son Goku from Dragonball4/5 Giant warriors - 4 of the shorter one are based on the 4 heavenly kingsErlang - Three eyed warrior, as we know is practically equal in fighting ability to Wukong. Also Tien from Dragonball was also inspired by this characterGuanyin - By default these days has always been pictured as a woman, looks like that reviewer didn\\'t pay attention to the cutscene at the end of chapter 1.Black bear demon - A servant/disciple to Guanyin3/4 - They have included the 4 dragon kings as well, which so far i\\'ve only encountered 3 of them(black, red and cyan/blue) and ironically they are the same colour as depicted in a manga + manga OVA show Souryuuden/Legend of the 4 kingsA female dragon - One of the main boss fight in chapter 3, thought i\\'ll include this here as apparently the game isn\\'t diverse enough. Even though they have released a trailer a couple years back showing the spider demonessZhu Bajie/ Pigsy - Of course I have encountered the pig, who was also following Wukong + monk to retrieve the scripture, his character portrayal in the game is greatThe little jewels things you get from the fox is clearly paying tribute to some of the \"special\" jewels shown in the book + show that have powers']"
      ]
     },
     "execution_count": 8,
     "metadata": {},
     "output_type": "execute_result"
    }
   ],
   "source": [
    "# Encontrando Elementos:\n",
    "meta_tags = html.find_all(\"div\", class_=\"bbWrapper\")\n",
    "\n",
    "# Extraindo Mensagens:\n",
    "msgs = [div.get_text(strip=True) for div in meta_tags];msgs"
   ]
  },
  {
   "cell_type": "markdown",
   "id": "3b94c592-08d1-4097-8f83-df430246f61f",
   "metadata": {},
   "source": [
    "# Avaliando Sentimentos:\n",
    "\n",
    "O modelo de análise de sentimentos padrão é o [Distilbert](https://huggingface.co/distilbert/distilbert-base-uncased-finetuned-sst-2-english).\n",
    "\n",
    "## Modelo DistilBERT base (uncased)\n",
    "Este modelo é uma versão reduzida do modelo BERT base, da própria [Hugging Face](https://huggingface.co/distilbert/distilbert-base-uncased), cuja o paper que o introduz é o [DistilBERT, a distilled version of BERT: smaller,\n",
    "faster, cheaper and lighter](https://arxiv.org/pdf/1910.01108). O código para o processo de distilação pode ser encontrado [aqui](https://github.com/huggingface/transformers/tree/main/examples/research_projects/distillation). Este modelo é \"uncased\": ele não diferencia entre \"english\" e \"English\", por exemplo.\n",
    "\n",
    "## Descrição do modelo\n",
    "O DistilBERT é um modelo de transformadores, menor e mais rápido que o BERT, que foi pré-treinado no mesmo corpus de maneira auto-supervisionada, usando o modelo BERT base como professor. Isso significa que foi pré-treinado apenas com textos brutos, sem intervenção humana para rotular os dados de qualquer maneira (por isso, ele pode usar muitos dados publicamente disponíveis), utilizando um processo automático para gerar entradas e rótulos a partir desses textos, usando o modelo BERT base. Mais precisamente, ele foi pré-treinado com três objetivos:\n",
    "\n",
    "* **Perda por distilação:** o modelo foi treinado para retornar as mesmas probabilidades que o modelo BERT base.\n",
    "\n",
    "* **Modelagem de linguagem mascarada (MLM):** esta é parte da perda original de treinamento do modelo BERT base. Ao processar uma sentença, o modelo mascara aleatoriamente 15% das palavras da entrada, então passa a sentença inteira mascarada pelo modelo e tem que prever as palavras mascaradas. Isso é diferente dos modelos tradicionais de redes neurais recorrentes (RNNs), que geralmente veem as palavras uma após a outra, ou dos modelos autorregressivos, como o GPT, que mascaram internamente os tokens futuros. Isso permite que o modelo aprenda uma representação bidirecional da sentença.\n",
    "\n",
    "* **Perda de similaridade de cosseno:** o modelo também foi treinado para gerar estados ocultos o mais próximo possível do modelo BERT base."
   ]
  },
  {
   "cell_type": "code",
   "execution_count": 9,
   "id": "ad5d7532-8360-4797-b184-ba7ec51ae5d6",
   "metadata": {},
   "outputs": [],
   "source": [
    "# Bibliotecas:\n",
    "import pandas as pd\n",
    "from tqdm import tqdm\n",
    "import numpy as np\n",
    "import matplotlib.pyplot as plt"
   ]
  },
  {
   "cell_type": "code",
   "execution_count": 10,
   "id": "75a6e2d9-a352-4a6a-8a72-7cd9fa63c8e3",
   "metadata": {},
   "outputs": [
    {
     "name": "stderr",
     "output_type": "stream",
     "text": [
      "100%|██████████████████████████████████████████████████████████████████████████████████| 25/25 [00:02<00:00,  8.56it/s]\n"
     ]
    }
   ],
   "source": [
    "# Avalisando Mensagens:\n",
    "resultados = {'label':[],'score':[]}\n",
    "for msg in tqdm(msgs):\n",
    "    saida = classifier(msg)\n",
    "    resultados['label'].append(saida[0]['label'])\n",
    "    resultados['score'].append(saida[0]['score'])"
   ]
  },
  {
   "cell_type": "code",
   "execution_count": 11,
   "id": "d50d07b2-9e45-42e1-9b3f-2d82957d85cd",
   "metadata": {},
   "outputs": [
    {
     "data": {
      "text/html": [
       "<div>\n",
       "<style scoped>\n",
       "    .dataframe tbody tr th:only-of-type {\n",
       "        vertical-align: middle;\n",
       "    }\n",
       "\n",
       "    .dataframe tbody tr th {\n",
       "        vertical-align: top;\n",
       "    }\n",
       "\n",
       "    .dataframe thead th {\n",
       "        text-align: right;\n",
       "    }\n",
       "</style>\n",
       "<table border=\"1\" class=\"dataframe\">\n",
       "  <thead>\n",
       "    <tr style=\"text-align: right;\">\n",
       "      <th></th>\n",
       "      <th>label</th>\n",
       "      <th>score</th>\n",
       "    </tr>\n",
       "  </thead>\n",
       "  <tbody>\n",
       "    <tr>\n",
       "      <th>0</th>\n",
       "      <td>POSITIVE</td>\n",
       "      <td>0.999747</td>\n",
       "    </tr>\n",
       "    <tr>\n",
       "      <th>1</th>\n",
       "      <td>NEGATIVE</td>\n",
       "      <td>0.964581</td>\n",
       "    </tr>\n",
       "    <tr>\n",
       "      <th>2</th>\n",
       "      <td>POSITIVE</td>\n",
       "      <td>0.952944</td>\n",
       "    </tr>\n",
       "    <tr>\n",
       "      <th>3</th>\n",
       "      <td>POSITIVE</td>\n",
       "      <td>0.999874</td>\n",
       "    </tr>\n",
       "    <tr>\n",
       "      <th>4</th>\n",
       "      <td>NEGATIVE</td>\n",
       "      <td>0.999369</td>\n",
       "    </tr>\n",
       "    <tr>\n",
       "      <th>5</th>\n",
       "      <td>POSITIVE</td>\n",
       "      <td>0.595238</td>\n",
       "    </tr>\n",
       "    <tr>\n",
       "      <th>6</th>\n",
       "      <td>NEGATIVE</td>\n",
       "      <td>0.985281</td>\n",
       "    </tr>\n",
       "    <tr>\n",
       "      <th>7</th>\n",
       "      <td>POSITIVE</td>\n",
       "      <td>0.966957</td>\n",
       "    </tr>\n",
       "    <tr>\n",
       "      <th>8</th>\n",
       "      <td>NEGATIVE</td>\n",
       "      <td>0.857865</td>\n",
       "    </tr>\n",
       "    <tr>\n",
       "      <th>9</th>\n",
       "      <td>POSITIVE</td>\n",
       "      <td>0.989763</td>\n",
       "    </tr>\n",
       "    <tr>\n",
       "      <th>10</th>\n",
       "      <td>NEGATIVE</td>\n",
       "      <td>0.994762</td>\n",
       "    </tr>\n",
       "    <tr>\n",
       "      <th>11</th>\n",
       "      <td>NEGATIVE</td>\n",
       "      <td>0.995179</td>\n",
       "    </tr>\n",
       "    <tr>\n",
       "      <th>12</th>\n",
       "      <td>NEGATIVE</td>\n",
       "      <td>0.999175</td>\n",
       "    </tr>\n",
       "    <tr>\n",
       "      <th>13</th>\n",
       "      <td>NEGATIVE</td>\n",
       "      <td>0.968156</td>\n",
       "    </tr>\n",
       "    <tr>\n",
       "      <th>14</th>\n",
       "      <td>POSITIVE</td>\n",
       "      <td>0.993774</td>\n",
       "    </tr>\n",
       "    <tr>\n",
       "      <th>15</th>\n",
       "      <td>POSITIVE</td>\n",
       "      <td>0.999857</td>\n",
       "    </tr>\n",
       "    <tr>\n",
       "      <th>16</th>\n",
       "      <td>POSITIVE</td>\n",
       "      <td>0.933035</td>\n",
       "    </tr>\n",
       "    <tr>\n",
       "      <th>17</th>\n",
       "      <td>NEGATIVE</td>\n",
       "      <td>0.970466</td>\n",
       "    </tr>\n",
       "    <tr>\n",
       "      <th>18</th>\n",
       "      <td>POSITIVE</td>\n",
       "      <td>0.995826</td>\n",
       "    </tr>\n",
       "    <tr>\n",
       "      <th>19</th>\n",
       "      <td>NEGATIVE</td>\n",
       "      <td>0.758399</td>\n",
       "    </tr>\n",
       "    <tr>\n",
       "      <th>20</th>\n",
       "      <td>POSITIVE</td>\n",
       "      <td>0.999285</td>\n",
       "    </tr>\n",
       "    <tr>\n",
       "      <th>21</th>\n",
       "      <td>POSITIVE</td>\n",
       "      <td>0.993447</td>\n",
       "    </tr>\n",
       "    <tr>\n",
       "      <th>22</th>\n",
       "      <td>POSITIVE</td>\n",
       "      <td>0.995596</td>\n",
       "    </tr>\n",
       "    <tr>\n",
       "      <th>23</th>\n",
       "      <td>NEGATIVE</td>\n",
       "      <td>0.999594</td>\n",
       "    </tr>\n",
       "    <tr>\n",
       "      <th>24</th>\n",
       "      <td>POSITIVE</td>\n",
       "      <td>0.849260</td>\n",
       "    </tr>\n",
       "  </tbody>\n",
       "</table>\n",
       "</div>"
      ],
      "text/plain": [
       "       label     score\n",
       "0   POSITIVE  0.999747\n",
       "1   NEGATIVE  0.964581\n",
       "2   POSITIVE  0.952944\n",
       "3   POSITIVE  0.999874\n",
       "4   NEGATIVE  0.999369\n",
       "5   POSITIVE  0.595238\n",
       "6   NEGATIVE  0.985281\n",
       "7   POSITIVE  0.966957\n",
       "8   NEGATIVE  0.857865\n",
       "9   POSITIVE  0.989763\n",
       "10  NEGATIVE  0.994762\n",
       "11  NEGATIVE  0.995179\n",
       "12  NEGATIVE  0.999175\n",
       "13  NEGATIVE  0.968156\n",
       "14  POSITIVE  0.993774\n",
       "15  POSITIVE  0.999857\n",
       "16  POSITIVE  0.933035\n",
       "17  NEGATIVE  0.970466\n",
       "18  POSITIVE  0.995826\n",
       "19  NEGATIVE  0.758399\n",
       "20  POSITIVE  0.999285\n",
       "21  POSITIVE  0.993447\n",
       "22  POSITIVE  0.995596\n",
       "23  NEGATIVE  0.999594\n",
       "24  POSITIVE  0.849260"
      ]
     },
     "execution_count": 11,
     "metadata": {},
     "output_type": "execute_result"
    }
   ],
   "source": [
    "df = pd.DataFrame(resultados, columns=resultados.keys());df"
   ]
  },
  {
   "cell_type": "code",
   "execution_count": 12,
   "id": "2c57cbeb-4dfd-4e6b-9d5b-d0a592ba954d",
   "metadata": {},
   "outputs": [
    {
     "data": {
      "image/png": "[encoded data removed]",
      "text/plain": [
       "<Figure size 640x480 with 1 Axes>"
      ]
     },
     "metadata": {},
     "output_type": "display_data"
    }
   ],
   "source": [
    "# Contar os valores\n",
    "counts = df['label'].value_counts()\n",
    "\n",
    "# Plotar o gráfico de barras\n",
    "counts.plot(kind='bar', color=['blue', 'orange'])\n",
    "plt.title('Quantidade de POSITIVE vs NEGATIVE')\n",
    "plt.xlabel('Label')\n",
    "plt.ylabel('Quantidade')\n",
    "plt.show()"
   ]
  },
  {
   "cell_type": "code",
   "execution_count": 13,
   "id": "6bd20c32-57b3-43e4-aea9-dccb5f3ad775",
   "metadata": {},
   "outputs": [
    {
     "data": {
      "image/png": "[encoded data removed]",
      "text/plain": [
       "<Figure size 640x480 with 1 Axes>"
      ]
     },
     "metadata": {},
     "output_type": "display_data"
    }
   ],
   "source": [
    "# Plotar o gráfico de pizza\n",
    "counts.plot(kind='pie', autopct='%1.1f%%', colors=['#00BFFF', '#F4A460'])\n",
    "plt.title('POSITIVE vs NEGATIVE')\n",
    "plt.ylabel('')  # Remove o label padrão do eixo y\n",
    "plt.show()"
   ]
  }
 ],
 "metadata": {
  "kernelspec": {
   "display_name": "Python 3 (ipykernel)",
   "language": "python",
   "name": "python3"
  },
  "language_info": {
   "codemirror_mode": {
    "name": "ipython",
    "version": 3
   },
   "file_extension": ".py",
   "mimetype": "text/x-python",
   "name": "python",
   "nbconvert_exporter": "python",
   "pygments_lexer": "ipython3",
   "version": "3.10.13"
  }
 },
 "nbformat": 4,
 "nbformat_minor": 5
}
