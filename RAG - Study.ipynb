{
 "cells": [
  {
   "cell_type": "markdown",
   "metadata": {
    "id": "SWPWH5q1pyEi"
   },
   "source": [
    "# Apresentação:\n",
    "\n",
    "    A proposta aqui é começar a estudar um pouco sobre RAG, Retrieval\n",
    "    Augmented Generation, uma forma interessante de se construir um LLM,\n",
    "    Large Language Model, mais preciso em suas respostas."
   ]
  },
  {
   "cell_type": "markdown",
   "metadata": {
    "id": "oqbh4y5HrbkN"
   },
   "source": [
    "**Instalação do SGBD orientado a vetor**\n",
    "\n",
    "    A ideia do RAG é basicamente validar a resposta\n",
    "    construida pelo LLM com informações de confiança.\n",
    "    Essas informação precisam estar armazenadas, a forma\n",
    "    de se fazer isso de modo eficiente na computação é por\n",
    "    meio de SGBDs."
   ]
  },
  {
   "cell_type": "code",
   "execution_count": 1,
   "metadata": {
    "colab": {
     "base_uri": "https://localhost:8080/"
    },
    "executionInfo": {
     "elapsed": 26122,
     "status": "ok",
     "timestamp": 1707080943236,
     "user": {
      "displayName": "André Amorim",
      "userId": "04859568826717067647"
     },
     "user_tz": 180
    },
    "id": "wARXDYFJraPb",
    "outputId": "7819f272-eaaf-48e2-9f49-cfcdea9fff5a"
   },
   "outputs": [
    {
     "name": "stdout",
     "output_type": "stream",
     "text": [
      "Requirement already satisfied: vectordb2 in /usr/local/lib/python3.10/dist-packages (0.1.9)\n",
      "Requirement already satisfied: torch>=1.9.0 in /usr/local/lib/python3.10/dist-packages (from vectordb2) (2.1.0+cu121)\n",
      "Requirement already satisfied: transformers>=4.10.0 in /usr/local/lib/python3.10/dist-packages (from vectordb2) (4.35.2)\n",
      "Requirement already satisfied: numpy>=1.21.0 in /usr/local/lib/python3.10/dist-packages (from vectordb2) (1.23.5)\n",
      "Requirement already satisfied: scikit-learn>=0.24.0 in /usr/local/lib/python3.10/dist-packages (from vectordb2) (1.2.2)\n",
      "Requirement already satisfied: scipy>=1.7.0 in /usr/local/lib/python3.10/dist-packages (from vectordb2) (1.11.4)\n",
      "Requirement already satisfied: sentence-transformers in /usr/local/lib/python3.10/dist-packages (from vectordb2) (2.3.1)\n",
      "Requirement already satisfied: faiss-cpu in /usr/local/lib/python3.10/dist-packages (from vectordb2) (1.7.4)\n",
      "Requirement already satisfied: tensorflow-text in /usr/local/lib/python3.10/dist-packages (from vectordb2) (2.15.0)\n",
      "Requirement already satisfied: joblib>=1.1.1 in /usr/local/lib/python3.10/dist-packages (from scikit-learn>=0.24.0->vectordb2) (1.3.2)\n",
      "Requirement already satisfied: threadpoolctl>=2.0.0 in /usr/local/lib/python3.10/dist-packages (from scikit-learn>=0.24.0->vectordb2) (3.2.0)\n",
      "Requirement already satisfied: filelock in /usr/local/lib/python3.10/dist-packages (from torch>=1.9.0->vectordb2) (3.13.1)\n",
      "Requirement already satisfied: typing-extensions in /usr/local/lib/python3.10/dist-packages (from torch>=1.9.0->vectordb2) (4.5.0)\n",
      "Requirement already satisfied: sympy in /usr/local/lib/python3.10/dist-packages (from torch>=1.9.0->vectordb2) (1.12)\n",
      "Requirement already satisfied: networkx in /usr/local/lib/python3.10/dist-packages (from torch>=1.9.0->vectordb2) (3.2.1)\n",
      "Requirement already satisfied: jinja2 in /usr/local/lib/python3.10/dist-packages (from torch>=1.9.0->vectordb2) (3.1.3)\n",
      "Requirement already satisfied: fsspec in /usr/local/lib/python3.10/dist-packages (from torch>=1.9.0->vectordb2) (2023.6.0)\n",
      "Requirement already satisfied: triton==2.1.0 in /usr/local/lib/python3.10/dist-packages (from torch>=1.9.0->vectordb2) (2.1.0)\n",
      "Requirement already satisfied: huggingface-hub<1.0,>=0.16.4 in /usr/local/lib/python3.10/dist-packages (from transformers>=4.10.0->vectordb2) (0.20.3)\n",
      "Requirement already satisfied: packaging>=20.0 in /usr/local/lib/python3.10/dist-packages (from transformers>=4.10.0->vectordb2) (23.2)\n",
      "Requirement already satisfied: pyyaml>=5.1 in /usr/local/lib/python3.10/dist-packages (from transformers>=4.10.0->vectordb2) (6.0.1)\n",
      "Requirement already satisfied: regex!=2019.12.17 in /usr/local/lib/python3.10/dist-packages (from transformers>=4.10.0->vectordb2) (2023.12.25)\n",
      "Requirement already satisfied: requests in /usr/local/lib/python3.10/dist-packages (from transformers>=4.10.0->vectordb2) (2.31.0)\n",
      "Requirement already satisfied: tokenizers<0.19,>=0.14 in /usr/local/lib/python3.10/dist-packages (from transformers>=4.10.0->vectordb2) (0.15.1)\n",
      "Requirement already satisfied: safetensors>=0.3.1 in /usr/local/lib/python3.10/dist-packages (from transformers>=4.10.0->vectordb2) (0.4.2)\n",
      "Requirement already satisfied: tqdm>=4.27 in /usr/local/lib/python3.10/dist-packages (from transformers>=4.10.0->vectordb2) (4.66.1)\n",
      "Requirement already satisfied: nltk in /usr/local/lib/python3.10/dist-packages (from sentence-transformers->vectordb2) (3.8.1)\n",
      "Requirement already satisfied: sentencepiece in /usr/local/lib/python3.10/dist-packages (from sentence-transformers->vectordb2) (0.1.99)\n",
      "Requirement already satisfied: Pillow in /usr/local/lib/python3.10/dist-packages (from sentence-transformers->vectordb2) (9.4.0)\n",
      "Requirement already satisfied: tensorflow-hub>=0.13.0 in /usr/local/lib/python3.10/dist-packages (from tensorflow-text->vectordb2) (0.16.1)\n",
      "Requirement already satisfied: tensorflow<2.16,>=2.15.0 in /usr/local/lib/python3.10/dist-packages (from tensorflow-text->vectordb2) (2.15.0)\n",
      "Requirement already satisfied: absl-py>=1.0.0 in /usr/local/lib/python3.10/dist-packages (from tensorflow<2.16,>=2.15.0->tensorflow-text->vectordb2) (1.4.0)\n",
      "Requirement already satisfied: astunparse>=1.6.0 in /usr/local/lib/python3.10/dist-packages (from tensorflow<2.16,>=2.15.0->tensorflow-text->vectordb2) (1.6.3)\n",
      "Requirement already satisfied: flatbuffers>=23.5.26 in /usr/local/lib/python3.10/dist-packages (from tensorflow<2.16,>=2.15.0->tensorflow-text->vectordb2) (23.5.26)\n",
      "Requirement already satisfied: gast!=0.5.0,!=0.5.1,!=0.5.2,>=0.2.1 in /usr/local/lib/python3.10/dist-packages (from tensorflow<2.16,>=2.15.0->tensorflow-text->vectordb2) (0.5.4)\n",
      "Requirement already satisfied: google-pasta>=0.1.1 in /usr/local/lib/python3.10/dist-packages (from tensorflow<2.16,>=2.15.0->tensorflow-text->vectordb2) (0.2.0)\n",
      "Requirement already satisfied: h5py>=2.9.0 in /usr/local/lib/python3.10/dist-packages (from tensorflow<2.16,>=2.15.0->tensorflow-text->vectordb2) (3.9.0)\n",
      "Requirement already satisfied: libclang>=13.0.0 in /usr/local/lib/python3.10/dist-packages (from tensorflow<2.16,>=2.15.0->tensorflow-text->vectordb2) (16.0.6)\n",
      "Requirement already satisfied: ml-dtypes~=0.2.0 in /usr/local/lib/python3.10/dist-packages (from tensorflow<2.16,>=2.15.0->tensorflow-text->vectordb2) (0.2.0)\n",
      "Requirement already satisfied: opt-einsum>=2.3.2 in /usr/local/lib/python3.10/dist-packages (from tensorflow<2.16,>=2.15.0->tensorflow-text->vectordb2) (3.3.0)\n",
      "Requirement already satisfied: protobuf!=4.21.0,!=4.21.1,!=4.21.2,!=4.21.3,!=4.21.4,!=4.21.5,<5.0.0dev,>=3.20.3 in /usr/local/lib/python3.10/dist-packages (from tensorflow<2.16,>=2.15.0->tensorflow-text->vectordb2) (3.20.3)\n",
      "Requirement already satisfied: setuptools in /usr/local/lib/python3.10/dist-packages (from tensorflow<2.16,>=2.15.0->tensorflow-text->vectordb2) (67.7.2)\n",
      "Requirement already satisfied: six>=1.12.0 in /usr/local/lib/python3.10/dist-packages (from tensorflow<2.16,>=2.15.0->tensorflow-text->vectordb2) (1.16.0)\n",
      "Requirement already satisfied: termcolor>=1.1.0 in /usr/local/lib/python3.10/dist-packages (from tensorflow<2.16,>=2.15.0->tensorflow-text->vectordb2) (2.4.0)\n",
      "Requirement already satisfied: wrapt<1.15,>=1.11.0 in /usr/local/lib/python3.10/dist-packages (from tensorflow<2.16,>=2.15.0->tensorflow-text->vectordb2) (1.14.1)\n",
      "Requirement already satisfied: tensorflow-io-gcs-filesystem>=0.23.1 in /usr/local/lib/python3.10/dist-packages (from tensorflow<2.16,>=2.15.0->tensorflow-text->vectordb2) (0.35.0)\n",
      "Requirement already satisfied: grpcio<2.0,>=1.24.3 in /usr/local/lib/python3.10/dist-packages (from tensorflow<2.16,>=2.15.0->tensorflow-text->vectordb2) (1.60.0)\n",
      "Requirement already satisfied: tensorboard<2.16,>=2.15 in /usr/local/lib/python3.10/dist-packages (from tensorflow<2.16,>=2.15.0->tensorflow-text->vectordb2) (2.15.1)\n",
      "Requirement already satisfied: tensorflow-estimator<2.16,>=2.15.0 in /usr/local/lib/python3.10/dist-packages (from tensorflow<2.16,>=2.15.0->tensorflow-text->vectordb2) (2.15.0)\n",
      "Requirement already satisfied: keras<2.16,>=2.15.0 in /usr/local/lib/python3.10/dist-packages (from tensorflow<2.16,>=2.15.0->tensorflow-text->vectordb2) (2.15.0)\n",
      "Requirement already satisfied: tf-keras>=2.14.1 in /usr/local/lib/python3.10/dist-packages (from tensorflow-hub>=0.13.0->tensorflow-text->vectordb2) (2.15.0)\n",
      "Requirement already satisfied: MarkupSafe>=2.0 in /usr/local/lib/python3.10/dist-packages (from jinja2->torch>=1.9.0->vectordb2) (2.1.4)\n",
      "Requirement already satisfied: click in /usr/local/lib/python3.10/dist-packages (from nltk->sentence-transformers->vectordb2) (8.1.7)\n",
      "Requirement already satisfied: charset-normalizer<4,>=2 in /usr/local/lib/python3.10/dist-packages (from requests->transformers>=4.10.0->vectordb2) (3.3.2)\n",
      "Requirement already satisfied: idna<4,>=2.5 in /usr/local/lib/python3.10/dist-packages (from requests->transformers>=4.10.0->vectordb2) (3.6)\n",
      "Requirement already satisfied: urllib3<3,>=1.21.1 in /usr/local/lib/python3.10/dist-packages (from requests->transformers>=4.10.0->vectordb2) (2.0.7)\n",
      "Requirement already satisfied: certifi>=2017.4.17 in /usr/local/lib/python3.10/dist-packages (from requests->transformers>=4.10.0->vectordb2) (2023.11.17)\n",
      "Requirement already satisfied: mpmath>=0.19 in /usr/local/lib/python3.10/dist-packages (from sympy->torch>=1.9.0->vectordb2) (1.3.0)\n",
      "Requirement already satisfied: wheel<1.0,>=0.23.0 in /usr/local/lib/python3.10/dist-packages (from astunparse>=1.6.0->tensorflow<2.16,>=2.15.0->tensorflow-text->vectordb2) (0.42.0)\n",
      "Requirement already satisfied: google-auth<3,>=1.6.3 in /usr/local/lib/python3.10/dist-packages (from tensorboard<2.16,>=2.15->tensorflow<2.16,>=2.15.0->tensorflow-text->vectordb2) (2.17.3)\n",
      "Requirement already satisfied: google-auth-oauthlib<2,>=0.5 in /usr/local/lib/python3.10/dist-packages (from tensorboard<2.16,>=2.15->tensorflow<2.16,>=2.15.0->tensorflow-text->vectordb2) (1.2.0)\n",
      "Requirement already satisfied: markdown>=2.6.8 in /usr/local/lib/python3.10/dist-packages (from tensorboard<2.16,>=2.15->tensorflow<2.16,>=2.15.0->tensorflow-text->vectordb2) (3.5.2)\n",
      "Requirement already satisfied: tensorboard-data-server<0.8.0,>=0.7.0 in /usr/local/lib/python3.10/dist-packages (from tensorboard<2.16,>=2.15->tensorflow<2.16,>=2.15.0->tensorflow-text->vectordb2) (0.7.2)\n",
      "Requirement already satisfied: werkzeug>=1.0.1 in /usr/local/lib/python3.10/dist-packages (from tensorboard<2.16,>=2.15->tensorflow<2.16,>=2.15.0->tensorflow-text->vectordb2) (3.0.1)\n",
      "Requirement already satisfied: cachetools<6.0,>=2.0.0 in /usr/local/lib/python3.10/dist-packages (from google-auth<3,>=1.6.3->tensorboard<2.16,>=2.15->tensorflow<2.16,>=2.15.0->tensorflow-text->vectordb2) (5.3.2)\n",
      "Requirement already satisfied: pyasn1-modules>=0.2.1 in /usr/local/lib/python3.10/dist-packages (from google-auth<3,>=1.6.3->tensorboard<2.16,>=2.15->tensorflow<2.16,>=2.15.0->tensorflow-text->vectordb2) (0.3.0)\n",
      "Requirement already satisfied: rsa<5,>=3.1.4 in /usr/local/lib/python3.10/dist-packages (from google-auth<3,>=1.6.3->tensorboard<2.16,>=2.15->tensorflow<2.16,>=2.15.0->tensorflow-text->vectordb2) (4.9)\n",
      "Requirement already satisfied: requests-oauthlib>=0.7.0 in /usr/local/lib/python3.10/dist-packages (from google-auth-oauthlib<2,>=0.5->tensorboard<2.16,>=2.15->tensorflow<2.16,>=2.15.0->tensorflow-text->vectordb2) (1.3.1)\n",
      "Requirement already satisfied: pyasn1<0.6.0,>=0.4.6 in /usr/local/lib/python3.10/dist-packages (from pyasn1-modules>=0.2.1->google-auth<3,>=1.6.3->tensorboard<2.16,>=2.15->tensorflow<2.16,>=2.15.0->tensorflow-text->vectordb2) (0.5.1)\n",
      "Requirement already satisfied: oauthlib>=3.0.0 in /usr/local/lib/python3.10/dist-packages (from requests-oauthlib>=0.7.0->google-auth-oauthlib<2,>=0.5->tensorboard<2.16,>=2.15->tensorflow<2.16,>=2.15.0->tensorflow-text->vectordb2) (3.2.2)\n",
      "Requirement already satisfied: langchain in /usr/local/lib/python3.10/dist-packages (0.1.5)\n",
      "Requirement already satisfied: PyYAML>=5.3 in /usr/local/lib/python3.10/dist-packages (from langchain) (6.0.1)\n",
      "Requirement already satisfied: SQLAlchemy<3,>=1.4 in /usr/local/lib/python3.10/dist-packages (from langchain) (2.0.24)\n",
      "Requirement already satisfied: aiohttp<4.0.0,>=3.8.3 in /usr/local/lib/python3.10/dist-packages (from langchain) (3.9.3)\n",
      "Requirement already satisfied: async-timeout<5.0.0,>=4.0.0 in /usr/local/lib/python3.10/dist-packages (from langchain) (4.0.3)\n",
      "Requirement already satisfied: dataclasses-json<0.7,>=0.5.7 in /usr/local/lib/python3.10/dist-packages (from langchain) (0.6.4)\n",
      "Requirement already satisfied: jsonpatch<2.0,>=1.33 in /usr/local/lib/python3.10/dist-packages (from langchain) (1.33)\n",
      "Requirement already satisfied: langchain-community<0.1,>=0.0.17 in /usr/local/lib/python3.10/dist-packages (from langchain) (0.0.17)\n",
      "Requirement already satisfied: langchain-core<0.2,>=0.1.16 in /usr/local/lib/python3.10/dist-packages (from langchain) (0.1.18)\n",
      "Requirement already satisfied: langsmith<0.1,>=0.0.83 in /usr/local/lib/python3.10/dist-packages (from langchain) (0.0.86)\n",
      "Requirement already satisfied: numpy<2,>=1 in /usr/local/lib/python3.10/dist-packages (from langchain) (1.23.5)\n",
      "Requirement already satisfied: pydantic<3,>=1 in /usr/local/lib/python3.10/dist-packages (from langchain) (1.10.14)\n",
      "Requirement already satisfied: requests<3,>=2 in /usr/local/lib/python3.10/dist-packages (from langchain) (2.31.0)\n",
      "Requirement already satisfied: tenacity<9.0.0,>=8.1.0 in /usr/local/lib/python3.10/dist-packages (from langchain) (8.2.3)\n",
      "Requirement already satisfied: aiosignal>=1.1.2 in /usr/local/lib/python3.10/dist-packages (from aiohttp<4.0.0,>=3.8.3->langchain) (1.3.1)\n",
      "Requirement already satisfied: attrs>=17.3.0 in /usr/local/lib/python3.10/dist-packages (from aiohttp<4.0.0,>=3.8.3->langchain) (23.2.0)\n",
      "Requirement already satisfied: frozenlist>=1.1.1 in /usr/local/lib/python3.10/dist-packages (from aiohttp<4.0.0,>=3.8.3->langchain) (1.4.1)\n",
      "Requirement already satisfied: multidict<7.0,>=4.5 in /usr/local/lib/python3.10/dist-packages (from aiohttp<4.0.0,>=3.8.3->langchain) (6.0.4)\n",
      "Requirement already satisfied: yarl<2.0,>=1.0 in /usr/local/lib/python3.10/dist-packages (from aiohttp<4.0.0,>=3.8.3->langchain) (1.9.4)\n",
      "Requirement already satisfied: marshmallow<4.0.0,>=3.18.0 in /usr/local/lib/python3.10/dist-packages (from dataclasses-json<0.7,>=0.5.7->langchain) (3.20.2)\n",
      "Requirement already satisfied: typing-inspect<1,>=0.4.0 in /usr/local/lib/python3.10/dist-packages (from dataclasses-json<0.7,>=0.5.7->langchain) (0.9.0)\n",
      "Requirement already satisfied: jsonpointer>=1.9 in /usr/local/lib/python3.10/dist-packages (from jsonpatch<2.0,>=1.33->langchain) (2.4)\n",
      "Requirement already satisfied: anyio<5,>=3 in /usr/local/lib/python3.10/dist-packages (from langchain-core<0.2,>=0.1.16->langchain) (3.7.1)\n",
      "Requirement already satisfied: packaging<24.0,>=23.2 in /usr/local/lib/python3.10/dist-packages (from langchain-core<0.2,>=0.1.16->langchain) (23.2)\n",
      "Requirement already satisfied: typing-extensions>=4.2.0 in /usr/local/lib/python3.10/dist-packages (from pydantic<3,>=1->langchain) (4.5.0)\n",
      "Requirement already satisfied: charset-normalizer<4,>=2 in /usr/local/lib/python3.10/dist-packages (from requests<3,>=2->langchain) (3.3.2)\n",
      "Requirement already satisfied: idna<4,>=2.5 in /usr/local/lib/python3.10/dist-packages (from requests<3,>=2->langchain) (3.6)\n",
      "Requirement already satisfied: urllib3<3,>=1.21.1 in /usr/local/lib/python3.10/dist-packages (from requests<3,>=2->langchain) (2.0.7)\n",
      "Requirement already satisfied: certifi>=2017.4.17 in /usr/local/lib/python3.10/dist-packages (from requests<3,>=2->langchain) (2023.11.17)\n",
      "Requirement already satisfied: greenlet!=0.4.17 in /usr/local/lib/python3.10/dist-packages (from SQLAlchemy<3,>=1.4->langchain) (3.0.3)\n",
      "Requirement already satisfied: sniffio>=1.1 in /usr/local/lib/python3.10/dist-packages (from anyio<5,>=3->langchain-core<0.2,>=0.1.16->langchain) (1.3.0)\n",
      "Requirement already satisfied: exceptiongroup in /usr/local/lib/python3.10/dist-packages (from anyio<5,>=3->langchain-core<0.2,>=0.1.16->langchain) (1.2.0)\n",
      "Requirement already satisfied: mypy-extensions>=0.3.0 in /usr/local/lib/python3.10/dist-packages (from typing-inspect<1,>=0.4.0->dataclasses-json<0.7,>=0.5.7->langchain) (1.0.0)\n"
     ]
    }
   ],
   "source": [
    "!pip install vectordb2\n",
    "!pip install langchain"
   ]
  },
  {
   "cell_type": "markdown",
   "metadata": {
    "id": "xFfKJPdPsHPf"
   },
   "source": [
    "**O motor do nosso RAG**\n",
    "\n",
    "    Dissemos acima que o RAG precisa ter informações de\n",
    "    confiança armazenada, mas como o modelo sabe que a\n",
    "    informação de confiança tem a ver com o prompt do\n",
    "    usuário?\n",
    "\n",
    "    Para esse projeto, a forma que vamos utilizar aqui\n",
    "    para checar a similiaridade do assunto proposto no\n",
    "    prompt com a infomações de confiança é por distância.\n",
    "    O algorítmo mais comum que classifica informação por\n",
    "    meio de distância é o KNN. Ou seja, vamos usar o\n",
    "    KNN para escolher a informação de confiança que valide\n",
    "    a resposta do modelo, ou seja, que contextualize a\n",
    "    resposta do modelo ao prompt."
   ]
  },
  {
   "cell_type": "code",
   "execution_count": 2,
   "metadata": {
    "colab": {
     "base_uri": "https://localhost:8080/"
    },
    "executionInfo": {
     "elapsed": 13278,
     "status": "ok",
     "timestamp": 1707080956511,
     "user": {
      "displayName": "André Amorim",
      "userId": "04859568826717067647"
     },
     "user_tz": 180
    },
    "id": "p8v4LGeFq_hC",
    "outputId": "1e302218-2a14-4a87-e41a-3fdc6e4458a5"
   },
   "outputs": [
    {
     "name": "stdout",
     "output_type": "stream",
     "text": [
      "Collecting git+http://github.com/vioshyvo/mrpt/\n",
      "  Cloning http://github.com/vioshyvo/mrpt/ to /tmp/pip-req-build-ujvbx_li\n",
      "  Running command git clone --filter=blob:none --quiet http://github.com/vioshyvo/mrpt/ /tmp/pip-req-build-ujvbx_li\n",
      "  warning: redirecting to https://github.com/vioshyvo/mrpt/\n",
      "  Resolved http://github.com/vioshyvo/mrpt/ to commit 88cc6f40782ca0f8de7491279766ded01d767861\n",
      "  Preparing metadata (setup.py) ... \u001b[?25l\u001b[?25hdone\n",
      "Requirement already satisfied: numpy>=1.10.0 in /usr/local/lib/python3.10/dist-packages (from mrpt==1.0) (1.23.5)\n"
     ]
    }
   ],
   "source": [
    "# MRPT - fast nearest neighbor search with random projection\n",
    "!pip install git+http://github.com/vioshyvo/mrpt/"
   ]
  },
  {
   "cell_type": "markdown",
   "metadata": {
    "id": "i-w4CjKOs9VL"
   },
   "source": [
    "**Nota**\n",
    "\n",
    "    Precisamos que todo esse processo de validação da resposta\n",
    "    seja rápido, o que pode não acontecer, dado a quantidade\n",
    "    massiva de dados para se processar, por isso da instalação\n",
    "    desse projeto do github que otimiza o KNN. É construido em C++\n",
    "    o que auxilia na velocidade de busca."
   ]
  },
  {
   "cell_type": "markdown",
   "metadata": {
    "id": "WYK7JNG7q4gi"
   },
   "source": [
    "# Retrieval Augmented Generation(RAG):\n",
    "\n",
    "    RAG, Retrieval Augmented Generation, é uma forma de se construir\n",
    "    um LLM, Large Language Model, mais preciso na sua resposta. A ideia\n",
    "    é construir um pipeline que combina a capacidade de recuperar informações\n",
    "    relevantes com a habilidade de gerar novos conteúdos de maneira aprimorada.\n",
    "    Esse tipo de abordagem é comumente utilizado em modelos que buscam melhorar\n",
    "    a qualidade e relevância da geração de texto, incorporando informações\n",
    "    pré-existentes através de mecanismos de recuperação."
   ]
  },
  {
   "cell_type": "markdown",
   "metadata": {
    "id": "iXg_gfDV4jGZ"
   },
   "source": [
    "## Importando o documento:"
   ]
  },
  {
   "cell_type": "markdown",
   "metadata": {
    "id": "iy4BCzGmuC1L"
   },
   "source": [
    "**Documento Base**\n",
    "\n",
    "    O Documento base é a nossa informação de confiança, o \"manual\" por\n",
    "    assim dizer, que a IA ira checar para validar suas repostas. Aqui\n",
    "    vamos trabalhar com um projeto muito legal que estruturou a\n",
    "    constituição federal.\n",
    "\n",
    "\n",
    "![arvore.png](data:image/png;base64,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)\n",
    "\n",
    "    Os dados estando estruturados facilitam o funcionamento do\n",
    "    modelo, mas também acredito, pensando um pouco nessa onda de\n",
    "    concursos públicos, o concurso público unificado que terá,\n",
    "    acredito que possa ser uma proposta bem interessante.\n"
   ]
  },
  {
   "cell_type": "code",
   "execution_count": 3,
   "metadata": {
    "executionInfo": {
     "elapsed": 12,
     "status": "ok",
     "timestamp": 1707080956511,
     "user": {
      "displayName": "André Amorim",
      "userId": "04859568826717067647"
     },
     "user_tz": 180
    },
    "id": "wrY7tcBjs-t4"
   },
   "outputs": [],
   "source": [
    "import re\n",
    "import requests"
   ]
  },
  {
   "cell_type": "code",
   "execution_count": null,
   "metadata": {
    "colab": {
     "base_uri": "https://localhost:8080/",
     "height": 122
    },
    "executionInfo": {
     "elapsed": 1072,
     "status": "ok",
     "timestamp": 1707080957571,
     "user": {
      "displayName": "André Amorim",
      "userId": "04859568826717067647"
     },
     "user_tz": 180
    },
    "id": "d6qpWMasxMHi",
    "outputId": "01493587-32f8-497d-de2c-9a7df0c7b9e2"
   },
   "outputs": [],
   "source": [
    "# Importando o Texto bruto:\n",
    "bruto_text = requests.get('https://raw.githubusercontent.com/abjur/constituicao/main/CONSTITUICAO.md').text\n",
    "bruto_text"
   ]
  },
  {
   "cell_type": "markdown",
   "metadata": {
    "id": "KTuNewpFx1bN"
   },
   "source": [
    "**Regex - Regular Expression**\n",
    "\n",
    "    A ideia aqui é usaro Regex ajustar o texto bruto baixado. Entender\n",
    "    de Regex é interessante, aqui não é o lugar apropriado para abordar\n",
    "    o tema e honestamente eu não tenho competência para explicar sobre,\n",
    "    mas fica ai a recomendação para o leitor (Inclusive eu mesmo hahaha),\n",
    "    dar uma olhada sobre."
   ]
  },
  {
   "cell_type": "code",
   "execution_count": 5,
   "metadata": {
    "executionInfo": {
     "elapsed": 7,
     "status": "ok",
     "timestamp": 1707080957571,
     "user": {
      "displayName": "André Amorim",
      "userId": "04859568826717067647"
     },
     "user_tz": 180
    },
    "id": "zvzm8zSPwXwA"
   },
   "outputs": [],
   "source": [
    "# Otimização do Texto:\n",
    "padrao_capitulo = r'^##\\s+(.*)$' # A ideia é pegar tudo que vem depois do ##\n",
    "sections = re.split(padrao_capitulo, bruto_text, flags=re.MULTILINE)\n",
    "sections = [section.strip() for section in sections[1:]]"
   ]
  },
  {
   "cell_type": "code",
   "execution_count": 6,
   "metadata": {
    "colab": {
     "base_uri": "https://localhost:8080/"
    },
    "executionInfo": {
     "elapsed": 7,
     "status": "ok",
     "timestamp": 1707080957571,
     "user": {
      "displayName": "André Amorim",
      "userId": "04859568826717067647"
     },
     "user_tz": 180
    },
    "id": "qjMWGNlTy3Y8",
    "outputId": "5ab3e168-5ff8-40bf-b0eb-3f7a6432b76e"
   },
   "outputs": [
    {
     "data": {
      "text/plain": [
       "['Título I: Dos Princípios Fundamentais',\n",
       " '**Art. 1º** A República Federativa do Brasil, formada pela união indissolúvel dos Estados e Municípios e do Distrito Federal, constitui-se em Estado democrático de direito e tem como fundamentos:\\n\\n\\u2003\\u2003I - a soberania;\\n\\n\\u2003\\u2003II - a cidadania;\\n\\n\\u2003\\u2003III - a dignidade da pessoa humana;\\n\\n\\u2003\\u2003IV - os valores sociais do trabalho e da livre iniciativa;\\n\\n\\u2003\\u2003V - o pluralismo político.\\n\\n\\u2003**Parágrafo único.** Todo o poder emana do povo, que o exerce por meio de representantes eleitos ou diretamente, nos termos desta Constituição.\\n\\n**Art. 2º** São Poderes da União, independentes e harmônicos entre si, o Legislativo, o Executivo e o Judiciário.\\n\\n**Art. 3º** Constituem objetivos fundamentais da República Federativa do Brasil:\\n\\n\\u2003\\u2003I - construir uma sociedade livre, justa e solidária;\\n\\n\\u2003\\u2003II - garantir o desenvolvimento nacional;\\n\\n\\u2003\\u2003III - erradicar a pobreza e a marginalização e reduzir as desigualdades sociais e regionais;\\n\\n\\u2003\\u2003IV - promover o bem de todos, sem preconceitos de origem, raça, sexo, cor, idade e quaisquer outras formas de discriminação.\\n\\n**Art. 4º** A República Federativa do Brasil rege-se nas suas relações internacionais pelos seguintes princípios:\\n\\n\\u2003\\u2003I - independência nacional;\\n\\n\\u2003\\u2003II - prevalência dos direitos humanos;\\n\\n\\u2003\\u2003III - autodeterminação dos povos;\\n\\n\\u2003\\u2003IV - não-intervenção;\\n\\n\\u2003\\u2003V - igualdade entre os Estados;\\n\\n\\u2003\\u2003VI - defesa da paz;\\n\\n\\u2003\\u2003VII - solução pacífica dos conflitos;\\n\\n\\u2003\\u2003VIII - repúdio ao terrorismo e ao racismo;\\n\\n\\u2003\\u2003IX - cooperação entre os povos para o progresso da humanidade;\\n\\n\\u2003\\u2003X - concessão de asilo político.\\n\\n\\u2003**Parágrafo único.** A República Federativa do Brasil buscará a integração econômica, política, social e cultural dos povos da América Latina, visando à formação de uma comunidade latino-americana de nações.']"
      ]
     },
     "execution_count": 6,
     "metadata": {},
     "output_type": "execute_result"
    }
   ],
   "source": [
    "# Analisando a organização do texto:\n",
    "sections[:2]"
   ]
  },
  {
   "cell_type": "markdown",
   "metadata": {
    "id": "FcWv8ZfEy0yG"
   },
   "source": [
    "    Olha a diferança do texto bruto para o texto organizado\n",
    "    com a regex... Se faz interessante esse tratamento de string\n",
    "    porque a partir de agora queremos começar a estruturar os nossos\n",
    "    dados para o modelo."
   ]
  },
  {
   "cell_type": "code",
   "execution_count": 7,
   "metadata": {
    "executionInfo": {
     "elapsed": 6,
     "status": "ok",
     "timestamp": 1707080957571,
     "user": {
      "displayName": "André Amorim",
      "userId": "04859568826717067647"
     },
     "user_tz": 180
    },
    "id": "xKAXWhBrxEOR"
   },
   "outputs": [],
   "source": [
    "from langchain.text_splitter import MarkdownHeaderTextSplitter"
   ]
  },
  {
   "cell_type": "markdown",
   "metadata": {
    "id": "5bCO6GXH1Kv9"
   },
   "source": [
    "    um arquivo Markdown é organizado por cabeçalhos. Criar \"chunks\"\n",
    "    dentro de grupos específicos de cabeçalhos é uma ideia intuitiva.\n",
    "    Para lidar com esse desafio, podemos usar o MarkdownHeaderTextSplitter.\n",
    "    Isso irá dividir um arquivo Markdown por um conjunto especificado de\n",
    "    cabeçalhos."
   ]
  },
  {
   "cell_type": "code",
   "execution_count": 8,
   "metadata": {
    "executionInfo": {
     "elapsed": 6,
     "status": "ok",
     "timestamp": 1707080957571,
     "user": {
      "displayName": "André Amorim",
      "userId": "04859568826717067647"
     },
     "user_tz": 180
    },
    "id": "joSnTpFl0AxI"
   },
   "outputs": [],
   "source": [
    "# Definição inicio do capitulo:\n",
    "padrao_capitulo = [(\"##\",\"Capitulo\")]\n",
    "\n",
    "# Marcando:\n",
    "markdown_splitter = MarkdownHeaderTextSplitter(headers_to_split_on=padrao_capitulo)\n",
    "sections = markdown_splitter.split_text(bruto_text)"
   ]
  },
  {
   "cell_type": "code",
   "execution_count": 9,
   "metadata": {
    "colab": {
     "base_uri": "https://localhost:8080/"
    },
    "executionInfo": {
     "elapsed": 5,
     "status": "ok",
     "timestamp": 1707080957571,
     "user": {
      "displayName": "André Amorim",
      "userId": "04859568826717067647"
     },
     "user_tz": 180
    },
    "id": "dYr670Va1Yek",
    "outputId": "b5e0cf9c-93ad-409c-a7a6-3bec1ada3cc8"
   },
   "outputs": [
    {
     "data": {
      "text/plain": [
       "[Document(page_content='# Constituição da República Federativa do Brasil  \\n**Preâmbulo**  \\nNós, representantes do povo brasileiro, reunidos em Assembléia Nacional Constituinte para instituir um Estado Democrático, destinado a assegurar o exercício dos direitos sociais e individuais, a liberdade, a segurança, o bem-estar, o desenvolvimento, a igualdade e a justiça como valores supremos de uma sociedade fraterna, pluralista e sem preconceitos, fundada na harmonia social e comprometida, na ordem interna e internacional, com a solução pacífica das controvérsias, promulgamos, sob a proteção de Deus, a seguinte CONSTITUIÇÃO DA REPÚBLICA FEDERATIVA DO BRASIL.'),\n",
       " Document(page_content='**Art. 1º** A República Federativa do Brasil, formada pela união indissolúvel dos Estados e Municípios e do Distrito Federal, constitui-se em Estado democrático de direito e tem como fundamentos:  \\nI - a soberania;  \\nII - a cidadania;  \\nIII - a dignidade da pessoa humana;  \\nIV - os valores sociais do trabalho e da livre iniciativa;  \\nV - o pluralismo político.  \\n**Parágrafo único.** Todo o poder emana do povo, que o exerce por meio de representantes eleitos ou diretamente, nos termos desta Constituição.  \\n**Art. 2º** São Poderes da União, independentes e harmônicos entre si, o Legislativo, o Executivo e o Judiciário.  \\n**Art. 3º** Constituem objetivos fundamentais da República Federativa do Brasil:  \\nI - construir uma sociedade livre, justa e solidária;  \\nII - garantir o desenvolvimento nacional;  \\nIII - erradicar a pobreza e a marginalização e reduzir as desigualdades sociais e regionais;  \\nIV - promover o bem de todos, sem preconceitos de origem, raça, sexo, cor, idade e quaisquer outras formas de discriminação.  \\n**Art. 4º** A República Federativa do Brasil rege-se nas suas relações internacionais pelos seguintes princípios:  \\nI - independência nacional;  \\nII - prevalência dos direitos humanos;  \\nIII - autodeterminação dos povos;  \\nIV - não-intervenção;  \\nV - igualdade entre os Estados;  \\nVI - defesa da paz;  \\nVII - solução pacífica dos conflitos;  \\nVIII - repúdio ao terrorismo e ao racismo;  \\nIX - cooperação entre os povos para o progresso da humanidade;  \\nX - concessão de asilo político.  \\n**Parágrafo único.** A República Federativa do Brasil buscará a integração econômica, política, social e cultural dos povos da América Latina, visando à formação de uma comunidade latino-americana de nações.', metadata={'Capitulo': 'Título I: Dos Princípios Fundamentais'})]"
      ]
     },
     "execution_count": 9,
     "metadata": {},
     "output_type": "execute_result"
    }
   ],
   "source": [
    "sections[:2]"
   ]
  },
  {
   "cell_type": "markdown",
   "metadata": {
    "id": "4k3C_vX72An7"
   },
   "source": [
    "    Note que a estruturação dos dados mudou! Agora temos um page_content e\n",
    "    um metadata. Esse metadata é fundamental para o RAG! Note que tudo que\n",
    "    estamos fazendo é labelando o texto, de modo que o modelo consiga\n",
    "    achar onde encontrar a informação de forma fácil."
   ]
  },
  {
   "cell_type": "markdown",
   "metadata": {
    "id": "quUSHKm92xoA"
   },
   "source": [
    "## Embeddings:\n",
    "\n",
    "    Embeddings nada mais é do que um processo de codificação comumente\n",
    "    usados para representar palavras, frases ou outros tipos de dados\n",
    "    textuais como números.\n",
    "\n",
    "    Essa codificação é fundamental para o funcionamento do RAG, dado\n",
    "    que precisamos calcular de alguma forma a similaridade entre o\n",
    "    prompt do usuário e o texto base, para validar a resposta do modelo.\n"
   ]
  },
  {
   "cell_type": "code",
   "execution_count": 10,
   "metadata": {
    "executionInfo": {
     "elapsed": 645,
     "status": "ok",
     "timestamp": 1707080958212,
     "user": {
      "displayName": "André Amorim",
      "userId": "04859568826717067647"
     },
     "user_tz": 180
    },
    "id": "K1nECwvK1YsY"
   },
   "outputs": [],
   "source": [
    "from langchain.text_splitter import RecursiveCharacterTextSplitter"
   ]
  },
  {
   "cell_type": "code",
   "execution_count": 11,
   "metadata": {
    "executionInfo": {
     "elapsed": 3,
     "status": "ok",
     "timestamp": 1707080958212,
     "user": {
      "displayName": "André Amorim",
      "userId": "04859568826717067647"
     },
     "user_tz": 180
    },
    "id": "MkNOrDQO5cnH"
   },
   "outputs": [],
   "source": [
    "# Testando o Chunk size e Chunk Overlap:\n",
    "chunk_size=20\n",
    "chunk_overlap=3 # Janela Deslizante"
   ]
  },
  {
   "cell_type": "markdown",
   "metadata": {
    "id": "qLx8imlJ4_W5"
   },
   "source": [
    "**Chunk Size (Tamanho do Bloco):**\n",
    "\n",
    "    Refere-se ao tamanho de cada bloco ou pedaço em que um conjunto de\n",
    "    dados é dividido durante processamento ou análise. Em diversas áreas,\n",
    "    como processamento de linguagem natural ou análise de sinais, por exemplo,\n",
    "    é comum dividir sequências de dados em partes menores para facilitar o\n",
    "    processamento. O \"chunk size\" é a medida desse tamanho de bloco.\n",
    "\n",
    "**Chunk Overlap (Sobreposição de Bloco):**\n",
    "\n",
    "    Representa a quantidade de sobreposição entre blocos consecutivos\n",
    "    ao dividir um conjunto de dados em pedaços. Em alguns casos, pode ser\n",
    "    benéfico permitir uma sobreposição entre blocos para garantir uma transição\n",
    "    suave de informações entre eles. A \"chunk overlap\" indica a porcentagem ou\n",
    "    quantidade de dados que se sobrepõem entre um bloco e o próximo.\n"
   ]
  },
  {
   "cell_type": "code",
   "execution_count": 12,
   "metadata": {
    "executionInfo": {
     "elapsed": 3,
     "status": "ok",
     "timestamp": 1707080958212,
     "user": {
      "displayName": "André Amorim",
      "userId": "04859568826717067647"
     },
     "user_tz": 180
    },
    "id": "HpfgFRhS6ChN"
   },
   "outputs": [],
   "source": [
    "text = \"A República Federativa do Brasil, formada pela união indissolúvel dos Estados e Municípios e do Distrito Federal\" # trecho do art. 1º\n",
    "\n",
    "splitter = RecursiveCharacterTextSplitter(chunk_size=chunk_size,chunk_overlap=chunk_overlap)"
   ]
  },
  {
   "cell_type": "markdown",
   "metadata": {
    "id": "jSc_xSJC5ryY"
   },
   "source": [
    "    A ideia do Recursive pegar caractere por\n",
    "    caractere recursivamente, de modo a dividir\n",
    "    o modo dataset."
   ]
  },
  {
   "cell_type": "code",
   "execution_count": 13,
   "metadata": {
    "colab": {
     "base_uri": "https://localhost:8080/"
    },
    "executionInfo": {
     "elapsed": 2,
     "status": "ok",
     "timestamp": 1707080958212,
     "user": {
      "displayName": "André Amorim",
      "userId": "04859568826717067647"
     },
     "user_tz": 180
    },
    "id": "ziwIIX1S7FVa",
    "outputId": "df1dcb72-02ec-409a-8553-1f3a86c3d9f9"
   },
   "outputs": [
    {
     "name": "stdout",
     "output_type": "stream",
     "text": [
      "A República\n",
      "Federativa do\n",
      "do Brasil, formada\n",
      "pela união\n",
      "indissolúvel dos\n",
      "Estados e\n",
      "e Municípios e do\n",
      "do Distrito Federal\n"
     ]
    }
   ],
   "source": [
    "chunks = splitter.split_text(text)\n",
    "\n",
    "for chunk in chunks:\n",
    "  print(chunk)"
   ]
  },
  {
   "cell_type": "markdown",
   "metadata": {
    "id": "BYF0yeyN7RRV"
   },
   "source": [
    "Nota:\n",
    "\n",
    "    Se mudar o valor do chunk, ele não divide de maneira diferente,\n",
    "    até o momento, eu ainda não sei definir qual é a forma optimal\n",
    "    porém, esse me parece a melhor configuração do chunk."
   ]
  },
  {
   "cell_type": "markdown",
   "metadata": {
    "id": "HeBwrjgn8QIw"
   },
   "source": [
    "**Indexando os dados no VectorDB**\n",
    "\n",
    "    Precisamos armezenar os nossos de dados de alguma forma de modo\n",
    "    que consigamos recupera-los quando for preciso, já comentamos que\n",
    "    a melhor forma de se fazer isso é usando de um SGBD."
   ]
  },
  {
   "cell_type": "code",
   "execution_count": 14,
   "metadata": {
    "executionInfo": {
     "elapsed": 12627,
     "status": "ok",
     "timestamp": 1707080970837,
     "user": {
      "displayName": "André Amorim",
      "userId": "04859568826717067647"
     },
     "user_tz": 180
    },
    "id": "-7uOtM5y5rfW"
   },
   "outputs": [],
   "source": [
    "from vectordb import Memory"
   ]
  },
  {
   "cell_type": "code",
   "execution_count": 15,
   "metadata": {
    "colab": {
     "base_uri": "https://localhost:8080/"
    },
    "executionInfo": {
     "elapsed": 3501,
     "status": "ok",
     "timestamp": 1707080974334,
     "user": {
      "displayName": "André Amorim",
      "userId": "04859568826717067647"
     },
     "user_tz": 180
    },
    "id": "xr-kwOCB5nVo",
    "outputId": "d6c64bfe-5abb-4be7-fd5e-9b8e877c0af8"
   },
   "outputs": [
    {
     "name": "stdout",
     "output_type": "stream",
     "text": [
      "Initiliazing embeddings:  normal\n"
     ]
    },
    {
     "name": "stderr",
     "output_type": "stream",
     "text": [
      "/usr/local/lib/python3.10/dist-packages/huggingface_hub/utils/_token.py:88: UserWarning: \n",
      "The secret `HF_TOKEN` does not exist in your Colab secrets.\n",
      "To authenticate with the Hugging Face Hub, create a token in your settings tab (https://huggingface.co/settings/tokens), set it as secret in your Google Colab and restart your session.\n",
      "You will be able to reuse this secret in all of your notebooks.\n",
      "Please note that authentication is recommended but still optional to access public models or datasets.\n",
      "  warnings.warn(\n"
     ]
    },
    {
     "name": "stdout",
     "output_type": "stream",
     "text": [
      "OK.\n"
     ]
    }
   ],
   "source": [
    "memory = Memory(chunking_strategy={'mode':'sliding_window',\n",
    "                                   'window_size':128, # Chunk_size\n",
    "                                   'overlap':8 # Chunk Overlap / Janela Deslizante\n",
    "                                   })"
   ]
  },
  {
   "cell_type": "code",
   "execution_count": 18,
   "metadata": {
    "executionInfo": {
     "elapsed": 278,
     "status": "ok",
     "timestamp": 1707081514543,
     "user": {
      "displayName": "André Amorim",
      "userId": "04859568826717067647"
     },
     "user_tz": 180
    },
    "id": "qgIJr2km-bDz"
   },
   "outputs": [],
   "source": [
    "from tqdm import tqdm"
   ]
  },
  {
   "cell_type": "code",
   "execution_count": 19,
   "metadata": {
    "colab": {
     "base_uri": "https://localhost:8080/"
    },
    "executionInfo": {
     "elapsed": 347764,
     "status": "ok",
     "timestamp": 1707081863896,
     "user": {
      "displayName": "André Amorim",
      "userId": "04859568826717067647"
     },
     "user_tz": 180
    },
    "id": "2-4dcsEr8F44",
    "outputId": "d89078a2-fcac-48f3-fe6f-9478ce94f6db"
   },
   "outputs": [
    {
     "name": "stderr",
     "output_type": "stream",
     "text": [
      "100%|██████████| 11/11 [05:47<00:00, 31.59s/it]\n"
     ]
    }
   ],
   "source": [
    "for i in tqdm(range(0,len(sections))):\n",
    "  capitulo = sections[i].metadata\n",
    "  texto = sections[i].page_content\n",
    "\n",
    "  metadata = {'capitulo':capitulo,\n",
    "              'origem':'Constituição Federal'}\n",
    "\n",
    "  memory.save(texto,metadata)"
   ]
  },
  {
   "cell_type": "markdown",
   "metadata": {
    "id": "ty0DS01Y9tMK"
   },
   "source": [
    "    Note que precisamos tanto do conteudo da página\n",
    "    quanto do metadata. É nesse ponto que o langchain\n",
    "    nos ajuda. Se fossemos tratar essa string na mão,\n",
    "    seria um trabalho bem arduo."
   ]
  },
  {
   "cell_type": "code",
   "execution_count": 21,
   "metadata": {
    "colab": {
     "base_uri": "https://localhost:8080/"
    },
    "executionInfo": {
     "elapsed": 467,
     "status": "ok",
     "timestamp": 1707083314657,
     "user": {
      "displayName": "André Amorim",
      "userId": "04859568826717067647"
     },
     "user_tz": 180
    },
    "id": "B_ToOTRE9sk4",
    "outputId": "f9ea0d6f-74d8-4393-fb27-830ca71efead"
   },
   "outputs": [
    {
     "data": {
      "text/plain": [
       "[{'chunk': 'direitos sociais a educação, a saúde, a alimentação, o trabalho, a moradia, o transporte, o lazer, a segurança, a previdência social, a proteção à maternidade e à infância, a assistência aos desamparados, na forma desta Constituição. **Art. 7º** São direitos dos trabalhadores urbanos e rurais, além de outros que visem à melhoria de sua condição social: I - relação de emprego protegida contra despedida arbitrária ou sem justa causa, nos termos de lei complementar, que preverá indenização compensatória, dentre outros direitos; II - seguro-desemprego, em caso de desemprego involuntário; III - fundo de garantia do tempo de serviço; IV - salário mínimo, fixado em lei, nacionalmente unificado, capaz de atender às suas necessidades vitais básicas e às de sua família com moradia, alimentação, educação, saúde, lazer, vestuário, higiene,',\n",
       "  'metadata': {'capitulo': {'Capitulo': 'Título II: Dos Direitos e Garantias Fundamentais'},\n",
       "   'origem': 'Constituição Federal'},\n",
       "  'distance': 0.40795904},\n",
       " {'chunk': 'direitos sociais a educação, a saúde, a alimentação, o trabalho, a moradia, o transporte, o lazer, a segurança, a previdência social, a proteção à maternidade e à infância, a assistência aos desamparados, na forma desta Constituição. **Art. 7º** São direitos dos trabalhadores urbanos e rurais, além de outros que visem à melhoria de sua condição social: I - relação de emprego protegida contra despedida arbitrária ou sem justa causa, nos termos de lei complementar, que preverá indenização compensatória, dentre outros direitos; II - seguro-desemprego, em caso de desemprego involuntário; III - fundo de garantia do tempo de serviço; IV - salário mínimo, fixado em lei, nacionalmente unificado, capaz de atender às suas necessidades vitais básicas e às de sua família com moradia, alimentação, educação, saúde, lazer, vestuário, higiene,',\n",
       "  'metadata': {'capitulo': {'Capitulo': 'Título II: Dos Direitos e Garantias Fundamentais'},\n",
       "   'origem': 'Constituição Federal'},\n",
       "  'distance': 0.40795904},\n",
       " {'chunk': 'a salário e critérios de admissão do trabalhador portador de deficiência; XXXII - proibição de distinção entre trabalho manual, técnico e intelectual ou entre os profissionais respectivos; XXXIII - proibição de trabalho noturno, perigoso ou insalubre a menores de dezoito e de qualquer trabalho a menores de dezesseis anos, salvo na condição de aprendiz, a partir de quatorze anos; XXXIV - igualdade de direitos entre o trabalhador com vínculo empregatício permanente e o trabalhador avulso. **Parágrafo único.** São assegurados à categoria dos trabalhadores domésticos os direitos previstos nos incisos IV, VI, VII, VIII, X, XIII, XV, XVI, XVII, XVIII, XIX, XXI, XXII, XXIV, XXVI, XXX, XXXI e XXXIII e, atendidas as condições estabelecidas em lei e observada a simplificação do cumprimento das obrigações tributárias, principais e acessórias, decorrentes',\n",
       "  'metadata': {'capitulo': {'Capitulo': 'Título II: Dos Direitos e Garantias Fundamentais'},\n",
       "   'origem': 'Constituição Federal'},\n",
       "  'distance': 0.412023},\n",
       " {'chunk': 'a salário e critérios de admissão do trabalhador portador de deficiência; XXXII - proibição de distinção entre trabalho manual, técnico e intelectual ou entre os profissionais respectivos; XXXIII - proibição de trabalho noturno, perigoso ou insalubre a menores de dezoito e de qualquer trabalho a menores de dezesseis anos, salvo na condição de aprendiz, a partir de quatorze anos; XXXIV - igualdade de direitos entre o trabalhador com vínculo empregatício permanente e o trabalhador avulso. **Parágrafo único.** São assegurados à categoria dos trabalhadores domésticos os direitos previstos nos incisos IV, VI, VII, VIII, X, XIII, XV, XVI, XVII, XVIII, XIX, XXI, XXII, XXIV, XXVI, XXX, XXXI e XXXIII e, atendidas as condições estabelecidas em lei e observada a simplificação do cumprimento das obrigações tributárias, principais e acessórias, decorrentes',\n",
       "  'metadata': {'capitulo': {'Capitulo': 'Título II: Dos Direitos e Garantias Fundamentais'},\n",
       "   'origem': 'Constituição Federal'},\n",
       "  'distance': 0.412023},\n",
       " {'chunk': 'de direitos minerários, caso os trabalhos de pesquisa ou de lavra não hajam sido comprovadamente iniciados nos prazos legais ou estejam inativos. **Art. 44.** As atuais empresas brasileiras titulares de autorização de pesquisa, concessão de lavra de recursos minerais e de aproveitamento dos potenciais de energia hidráulica em vigor terão quatro anos, a partir da promulgação da Constituição, para cumprir os requisitos do art. 176, § 1º. **§ 1º** Ressalvadas as disposições de interesse nacional previstas no texto constitucional, as empresas brasileiras ficarão dispensadas do cumprimento do disposto no art. 176, § 1º, desde que, no prazo de até quatro anos da data da promulgação da Constituição, tenham o produto de sua lavra e beneficiamento destinado a industrialização no território nacional, em seus próprios estabelecimentos ou em empresa',\n",
       "  'metadata': {'capitulo': {'Capitulo': 'Ato das Disposições Constitucionais Transitórias'},\n",
       "   'origem': 'Constituição Federal'},\n",
       "  'distance': 0.43522352}]"
      ]
     },
     "execution_count": 21,
     "metadata": {},
     "output_type": "execute_result"
    }
   ],
   "source": [
    "# Pesquisa:\n",
    "memory.search('direitos dos trabalhadores', top_n=5)"
   ]
  },
  {
   "cell_type": "code",
   "execution_count": null,
   "metadata": {
    "id": "3APVybdlKCFK"
   },
   "outputs": [],
   "source": []
  }
 ],
 "metadata": {
  "colab": {
   "authorship_tag": "ABX9TyM0G45w6zIuv245y45BdCfU",
   "collapsed_sections": [
    "SWPWH5q1pyEi",
    "iXg_gfDV4jGZ"
   ],
   "provenance": []
  },
  "kernelspec": {
   "display_name": "Python 3",
   "name": "python3"
  },
  "language_info": {
   "name": "python"
  }
 },
 "nbformat": 4,
 "nbformat_minor": 0
}
