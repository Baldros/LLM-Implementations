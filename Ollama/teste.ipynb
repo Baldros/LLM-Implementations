{
 "cells": [
  {
   "cell_type": "code",
   "execution_count": 26,
   "metadata": {},
   "outputs": [],
   "source": [
    "# Importando Bibliotecas:\n",
    "import json"
   ]
  },
  {
   "cell_type": "code",
   "execution_count": 27,
   "metadata": {},
   "outputs": [],
   "source": [
    "# lendo Arquivos:\n",
    "with open(r'C:\\Users\\amori\\Cods\\Agents\\contexts.json','r') as arq:\n",
    "    conversas = json.load(arq)"
   ]
  },
  {
   "cell_type": "code",
   "execution_count": 31,
   "metadata": {},
   "outputs": [
    {
     "data": {
      "text/plain": [
       "['Título: Testando a Qualidade do Llama 3.0 - Uma Conversa Aleatória e Avaliativa',\n",
       " 'Agradeço a sua resposta e a avaliação positiva! Estou satisfeito em saber que estive capaz de realizar bem a nossa conversa.\\n\\nSe você quiser, podemos continuar explorando temas novos. Você gostaria de discutir sobre algo específico ou apenas manter uma conversa aleatória? Além disso, se houver alguma outra coisa que você gostaria de testar ou avaliar em relação à minha capacidade de entender e gerar texto coerente e relevante, sinta-se à vontade para dizer!\\n\\nAlém disso, gostaria de saber: Qual foi a sua impressão geral da nossa conversa até agora? Você sentiu que tudo está funcionando bem em termos de entendimento e resposta?']"
      ]
     },
     "execution_count": 31,
     "metadata": {},
     "output_type": "execute_result"
    }
   ],
   "source": [
    "lista = list(conversas.keys());lista"
   ]
  },
  {
   "cell_type": "code",
   "execution_count": 33,
   "metadata": {},
   "outputs": [
    {
     "name": "stdout",
     "output_type": "stream",
     "text": [
      "2\n"
     ]
    }
   ],
   "source": [
    "print(len(lista))"
   ]
  },
  {
   "cell_type": "code",
   "execution_count": 25,
   "metadata": {},
   "outputs": [],
   "source": [
    "def RemeberContext(json_direct=r'C:\\Users\\amori\\Cods\\Agents\\contexts.json'):\n",
    "    '''\n",
    "        Função construida para relembrar o\n",
    "    contexto de alguma conversa em específico.\n",
    "\n",
    "    # Entradas:\n",
    "    str: Diretório do json de conversas.\n",
    "\n",
    "    # Saída:\n",
    "    dic: Conversas já tidas.\n",
    "    '''\n",
    "\n",
    "    # lendo Arquivos:\n",
    "    with open(json_direct,'r') as arq:\n",
    "        conversas = json.load(arq)\n",
    "\n",
    "    # Listando conversas:\n",
    "    for key in conversas.keys():\n",
    "        print(key)\n",
    "\n",
    "    return conversas"
   ]
  }
 ],
 "metadata": {
  "kernelspec": {
   "display_name": "agents_tester",
   "language": "python",
   "name": "python3"
  },
  "language_info": {
   "codemirror_mode": {
    "name": "ipython",
    "version": 3
   },
   "file_extension": ".py",
   "mimetype": "text/x-python",
   "name": "python",
   "nbconvert_exporter": "python",
   "pygments_lexer": "ipython3",
   "version": "3.12.4"
  }
 },
 "nbformat": 4,
 "nbformat_minor": 2
}
